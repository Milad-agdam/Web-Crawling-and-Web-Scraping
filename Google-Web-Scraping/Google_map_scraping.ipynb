{
 "cells": [
  {
   "cell_type": "code",
   "execution_count": 1,
   "metadata": {
    "pycharm": {
     "name": "#%%\n"
    }
   },
   "outputs": [],
   "source": [
    "#from datetime import time\n",
    "import time\n",
    "import pandas as pd\n",
    "from connect_to_driver import my_driver\n",
    "# from adding_exel_file import adding_exel\n",
    "from selenium.webdriver.chrome.options import Options\n",
    "from shop_info import get_data\n",
    "from selenium.webdriver.common.by import By\n",
    "from selenium.common.exceptions import TimeoutException\n",
    "import mysql.connector"
   ]
  },
  {
   "cell_type": "code",
   "execution_count": 2,
   "metadata": {
    "pycharm": {
     "name": "#%%\n"
    }
   },
   "outputs": [
    {
     "name": "stdout",
     "output_type": "stream",
     "text": [
      "723 723\n"
     ]
    },
    {
     "data": {
      "text/html": [
       "<div>\n",
       "<style scoped>\n",
       "    .dataframe tbody tr th:only-of-type {\n",
       "        vertical-align: middle;\n",
       "    }\n",
       "\n",
       "    .dataframe tbody tr th {\n",
       "        vertical-align: top;\n",
       "    }\n",
       "\n",
       "    .dataframe thead th {\n",
       "        text-align: right;\n",
       "    }\n",
       "</style>\n",
       "<table border=\"1\" class=\"dataframe\">\n",
       "  <thead>\n",
       "    <tr style=\"text-align: right;\">\n",
       "      <th></th>\n",
       "      <th>City</th>\n",
       "      <th>Postcode</th>\n",
       "    </tr>\n",
       "  </thead>\n",
       "  <tbody>\n",
       "    <tr>\n",
       "      <th>0</th>\n",
       "      <td>Aberdeen</td>\n",
       "      <td>AB1</td>\n",
       "    </tr>\n",
       "    <tr>\n",
       "      <th>1</th>\n",
       "      <td>Aberdeen</td>\n",
       "      <td>AB2</td>\n",
       "    </tr>\n",
       "    <tr>\n",
       "      <th>2</th>\n",
       "      <td>Aberdeen</td>\n",
       "      <td>AB3</td>\n",
       "    </tr>\n",
       "    <tr>\n",
       "      <th>3</th>\n",
       "      <td>Aberdeen</td>\n",
       "      <td>AB4</td>\n",
       "    </tr>\n",
       "    <tr>\n",
       "      <th>4</th>\n",
       "      <td>Aberdeen</td>\n",
       "      <td>AB5</td>\n",
       "    </tr>\n",
       "    <tr>\n",
       "      <th>...</th>\n",
       "      <td>...</td>\n",
       "      <td>...</td>\n",
       "    </tr>\n",
       "    <tr>\n",
       "      <th>718</th>\n",
       "      <td>Wolverhampton</td>\n",
       "      <td>WV14</td>\n",
       "    </tr>\n",
       "    <tr>\n",
       "      <th>719</th>\n",
       "      <td>Wolverhampton</td>\n",
       "      <td>WV15</td>\n",
       "    </tr>\n",
       "    <tr>\n",
       "      <th>720</th>\n",
       "      <td>Wolverhampton</td>\n",
       "      <td>WV16</td>\n",
       "    </tr>\n",
       "    <tr>\n",
       "      <th>721</th>\n",
       "      <td>Wolverhampton</td>\n",
       "      <td>WV98</td>\n",
       "    </tr>\n",
       "    <tr>\n",
       "      <th>722</th>\n",
       "      <td>Wolverhampton</td>\n",
       "      <td>WV99</td>\n",
       "    </tr>\n",
       "  </tbody>\n",
       "</table>\n",
       "<p>723 rows × 2 columns</p>\n",
       "</div>"
      ],
      "text/plain": [
       "              City Postcode\n",
       "0         Aberdeen      AB1\n",
       "1         Aberdeen      AB2\n",
       "2         Aberdeen      AB3\n",
       "3         Aberdeen      AB4\n",
       "4         Aberdeen      AB5\n",
       "..             ...      ...\n",
       "718  Wolverhampton     WV14\n",
       "719  Wolverhampton     WV15\n",
       "720  Wolverhampton     WV16\n",
       "721  Wolverhampton     WV98\n",
       "722  Wolverhampton     WV99\n",
       "\n",
       "[723 rows x 2 columns]"
      ]
     },
     "execution_count": 2,
     "metadata": {},
     "output_type": "execute_result"
    }
   ],
   "source": [
    "\n",
    "df = pd.read_excel('postcode.xlsx')\n",
    "#print(df['city'],df['post_codes'])\n",
    "print(len(df['City']),len(df['Postcode']))\n",
    "df\n",
    "#for city , postcode in zip(df['city'],df['post_codes']):\n",
    "\n",
    "#print(city,postcode)\n"
   ]
  },
  {
   "cell_type": "code",
   "execution_count": 3,
   "metadata": {},
   "outputs": [
    {
     "data": {
      "text/html": [
       "<div>\n",
       "<style scoped>\n",
       "    .dataframe tbody tr th:only-of-type {\n",
       "        vertical-align: middle;\n",
       "    }\n",
       "\n",
       "    .dataframe tbody tr th {\n",
       "        vertical-align: top;\n",
       "    }\n",
       "\n",
       "    .dataframe thead th {\n",
       "        text-align: right;\n",
       "    }\n",
       "</style>\n",
       "<table border=\"1\" class=\"dataframe\">\n",
       "  <thead>\n",
       "    <tr style=\"text-align: right;\">\n",
       "      <th></th>\n",
       "      <th>City</th>\n",
       "      <th>Postcode</th>\n",
       "    </tr>\n",
       "  </thead>\n",
       "  <tbody>\n",
       "    <tr>\n",
       "      <th>40</th>\n",
       "      <td>Birmingham</td>\n",
       "      <td>B1</td>\n",
       "    </tr>\n",
       "    <tr>\n",
       "      <th>41</th>\n",
       "      <td>Birmingham</td>\n",
       "      <td>B2</td>\n",
       "    </tr>\n",
       "    <tr>\n",
       "      <th>42</th>\n",
       "      <td>Birmingham</td>\n",
       "      <td>B3</td>\n",
       "    </tr>\n",
       "    <tr>\n",
       "      <th>43</th>\n",
       "      <td>Birmingham</td>\n",
       "      <td>B4</td>\n",
       "    </tr>\n",
       "    <tr>\n",
       "      <th>44</th>\n",
       "      <td>Birmingham</td>\n",
       "      <td>B5</td>\n",
       "    </tr>\n",
       "    <tr>\n",
       "      <th>...</th>\n",
       "      <td>...</td>\n",
       "      <td>...</td>\n",
       "    </tr>\n",
       "    <tr>\n",
       "      <th>114</th>\n",
       "      <td>Birmingham</td>\n",
       "      <td>B95</td>\n",
       "    </tr>\n",
       "    <tr>\n",
       "      <th>115</th>\n",
       "      <td>Birmingham</td>\n",
       "      <td>B96</td>\n",
       "    </tr>\n",
       "    <tr>\n",
       "      <th>116</th>\n",
       "      <td>Birmingham</td>\n",
       "      <td>B97</td>\n",
       "    </tr>\n",
       "    <tr>\n",
       "      <th>117</th>\n",
       "      <td>Birmingham</td>\n",
       "      <td>B98</td>\n",
       "    </tr>\n",
       "    <tr>\n",
       "      <th>118</th>\n",
       "      <td>Birmingham</td>\n",
       "      <td>B99</td>\n",
       "    </tr>\n",
       "  </tbody>\n",
       "</table>\n",
       "<p>79 rows × 2 columns</p>\n",
       "</div>"
      ],
      "text/plain": [
       "           City Postcode\n",
       "40   Birmingham       B1\n",
       "41   Birmingham       B2\n",
       "42   Birmingham       B3\n",
       "43   Birmingham       B4\n",
       "44   Birmingham       B5\n",
       "..          ...      ...\n",
       "114  Birmingham      B95\n",
       "115  Birmingham      B96\n",
       "116  Birmingham      B97\n",
       "117  Birmingham      B98\n",
       "118  Birmingham      B99\n",
       "\n",
       "[79 rows x 2 columns]"
      ]
     },
     "execution_count": 3,
     "metadata": {},
     "output_type": "execute_result"
    }
   ],
   "source": [
    "df[df['City']== 'Birmingham']"
   ]
  },
  {
   "cell_type": "code",
   "execution_count": 4,
   "metadata": {},
   "outputs": [
    {
     "data": {
      "text/plain": [
       "City        Birmingham\n",
       "Postcode           B63\n",
       "Name: 91, dtype: object"
      ]
     },
     "execution_count": 4,
     "metadata": {},
     "output_type": "execute_result"
    }
   ],
   "source": [
    "df.iloc[91]"
   ]
  },
  {
   "cell_type": "code",
   "execution_count": 5,
   "metadata": {
    "pycharm": {
     "name": "#%%\n"
    }
   },
   "outputs": [
    {
     "name": "stdout",
     "output_type": "stream",
     "text": [
      "Driver connected\n"
     ]
    }
   ],
   "source": [
    "driver = my_driver()\n",
    "driver.get('https://www.google.com/maps/search/Restaurants/')\n",
    "time.sleep(5)\n",
    "reject = driver.find_element(By.XPATH,\n",
    "                             '//*[@id=\"yDmH0d\"]/c-wiz/div/div/div/div[2]/div[1]/div[3]/div[1]/div[1]/form[1]/div/div/button')\n",
    "reject.click()\n",
    "time.sleep(5)"
   ]
  },
  {
   "cell_type": "code",
   "execution_count": 6,
   "metadata": {
    "pycharm": {
     "name": "#%%\n"
    }
   },
   "outputs": [
    {
     "name": "stdout",
     "output_type": "stream",
     "text": [
      "ok\n"
     ]
    },
    {
     "ename": "NoSuchWindowException",
     "evalue": "Message: no such window: target window already closed\nfrom unknown error: web view not found\n  (Session info: chrome=116.0.5845.179)\n",
     "output_type": "error",
     "traceback": [
      "\u001b[0;31m---------------------------------------------------------------------------\u001b[0m",
      "\u001b[0;31mNoSuchWindowException\u001b[0m                     Traceback (most recent call last)",
      "\u001b[1;32m/home/miladagdam/Google-Map-Scrapping/Scrapping-v2/Google_map_scraping.ipynb Cell 6\u001b[0m line \u001b[0;36m3\n\u001b[1;32m      <a href='vscode-notebook-cell:/home/miladagdam/Google-Map-Scrapping/Scrapping-v2/Google_map_scraping.ipynb#W5sZmlsZQ%3D%3D?line=0'>1</a>\u001b[0m \u001b[39mfor\u001b[39;00m city , post \u001b[39min\u001b[39;00m \u001b[39mzip\u001b[39m(df[\u001b[39m'\u001b[39m\u001b[39mCity\u001b[39m\u001b[39m'\u001b[39m][\u001b[39m91\u001b[39m:],df[\u001b[39m'\u001b[39m\u001b[39mPostcode\u001b[39m\u001b[39m'\u001b[39m][\u001b[39m91\u001b[39m:]):\n\u001b[1;32m      <a href='vscode-notebook-cell:/home/miladagdam/Google-Map-Scrapping/Scrapping-v2/Google_map_scraping.ipynb#W5sZmlsZQ%3D%3D?line=1'>2</a>\u001b[0m     \u001b[39mtry\u001b[39;00m:\n\u001b[0;32m----> <a href='vscode-notebook-cell:/home/miladagdam/Google-Map-Scrapping/Scrapping-v2/Google_map_scraping.ipynb#W5sZmlsZQ%3D%3D?line=2'>3</a>\u001b[0m         (CITY, POST, Shop_name, Address, Phone_number, Day, Hour) \u001b[39m=\u001b[39m get_data(driver, city, post)\n\u001b[1;32m      <a href='vscode-notebook-cell:/home/miladagdam/Google-Map-Scrapping/Scrapping-v2/Google_map_scraping.ipynb#W5sZmlsZQ%3D%3D?line=3'>4</a>\u001b[0m         \u001b[39mprint\u001b[39m(\u001b[39mf\u001b[39m\u001b[39m\"\u001b[39m\u001b[39mCity: \u001b[39m\u001b[39m{\u001b[39;00mCITY\u001b[39m}\u001b[39;00m\u001b[39m Post code: \u001b[39m\u001b[39m{\u001b[39;00mPOST\u001b[39m}\u001b[39;00m\u001b[39m Shop Name:\u001b[39m\u001b[39m{\u001b[39;00mShop_name\u001b[39m}\u001b[39;00m\u001b[39m Address: \u001b[39m\u001b[39m{\u001b[39;00mAddress\u001b[39m}\u001b[39;00m\u001b[39m Phone number: \u001b[39m\u001b[39m{\u001b[39;00mPhone_number\u001b[39m}\u001b[39;00m\u001b[39m\"\u001b[39m)\n\u001b[1;32m      <a href='vscode-notebook-cell:/home/miladagdam/Google-Map-Scrapping/Scrapping-v2/Google_map_scraping.ipynb#W5sZmlsZQ%3D%3D?line=4'>5</a>\u001b[0m         \u001b[39mfor\u001b[39;00m city , post , shop_name , address , phone_number , day , hour \u001b[39min\u001b[39;00m \u001b[39mzip\u001b[39m(CITY, POST, Shop_name, Address, Phone_number, Day, Hour):\n",
      "File \u001b[0;32m~/Google-Map-Scrapping/Scrapping-v2/shop_info.py:34\u001b[0m, in \u001b[0;36mget_data\u001b[0;34m(driver, city, post_code)\u001b[0m\n\u001b[1;32m     32\u001b[0m \u001b[39mwhile\u001b[39;00m \u001b[39mTrue\u001b[39;00m:\n\u001b[1;32m     33\u001b[0m \tx \u001b[39m+\u001b[39m\u001b[39m=\u001b[39m \u001b[39m1\u001b[39m\n\u001b[0;32m---> 34\u001b[0m \tels \u001b[39m=\u001b[39m driver\u001b[39m.\u001b[39mfind_elements(By\u001b[39m.\u001b[39mCSS_SELECTOR, \u001b[39m'\u001b[39m\u001b[39m.TFQHme\u001b[39m\u001b[39m'\u001b[39m)\n\u001b[1;32m     35\u001b[0m \tdriver\u001b[39m.\u001b[39mexecute_script(\u001b[39m\"\u001b[39m\u001b[39marguments[0].scrollIntoView();\u001b[39m\u001b[39m\"\u001b[39m, els[\u001b[39m-\u001b[39m\u001b[39m1\u001b[39m])\n\u001b[1;32m     36\u001b[0m \ttime\u001b[39m.\u001b[39msleep(\u001b[39m6\u001b[39m)\n",
      "File \u001b[0;32m~/miniconda3/envs/test_for_scrapping/lib/python3.11/site-packages/selenium/webdriver/remote/webdriver.py:1005\u001b[0m, in \u001b[0;36mWebDriver.find_elements\u001b[0;34m(self, by, value)\u001b[0m\n\u001b[1;32m   1001\u001b[0m         value \u001b[39m=\u001b[39m \u001b[39m'\u001b[39m\u001b[39m[name=\u001b[39m\u001b[39m\"\u001b[39m\u001b[39m%s\u001b[39;00m\u001b[39m\"\u001b[39m\u001b[39m]\u001b[39m\u001b[39m'\u001b[39m \u001b[39m%\u001b[39m value\n\u001b[1;32m   1003\u001b[0m \u001b[39m# Return empty list if driver returns null\u001b[39;00m\n\u001b[1;32m   1004\u001b[0m \u001b[39m# See https://github.com/SeleniumHQ/selenium/issues/4555\u001b[39;00m\n\u001b[0;32m-> 1005\u001b[0m \u001b[39mreturn\u001b[39;00m \u001b[39mself\u001b[39m\u001b[39m.\u001b[39mexecute(Command\u001b[39m.\u001b[39mFIND_ELEMENTS, {\n\u001b[1;32m   1006\u001b[0m     \u001b[39m'\u001b[39m\u001b[39musing\u001b[39m\u001b[39m'\u001b[39m: by,\n\u001b[1;32m   1007\u001b[0m     \u001b[39m'\u001b[39m\u001b[39mvalue\u001b[39m\u001b[39m'\u001b[39m: value})[\u001b[39m'\u001b[39m\u001b[39mvalue\u001b[39m\u001b[39m'\u001b[39m] \u001b[39mor\u001b[39;00m []\n",
      "File \u001b[0;32m~/miniconda3/envs/test_for_scrapping/lib/python3.11/site-packages/selenium/webdriver/remote/webdriver.py:321\u001b[0m, in \u001b[0;36mWebDriver.execute\u001b[0;34m(self, driver_command, params)\u001b[0m\n\u001b[1;32m    319\u001b[0m response \u001b[39m=\u001b[39m \u001b[39mself\u001b[39m\u001b[39m.\u001b[39mcommand_executor\u001b[39m.\u001b[39mexecute(driver_command, params)\n\u001b[1;32m    320\u001b[0m \u001b[39mif\u001b[39;00m response:\n\u001b[0;32m--> 321\u001b[0m     \u001b[39mself\u001b[39m\u001b[39m.\u001b[39merror_handler\u001b[39m.\u001b[39mcheck_response(response)\n\u001b[1;32m    322\u001b[0m     response[\u001b[39m'\u001b[39m\u001b[39mvalue\u001b[39m\u001b[39m'\u001b[39m] \u001b[39m=\u001b[39m \u001b[39mself\u001b[39m\u001b[39m.\u001b[39m_unwrap_value(\n\u001b[1;32m    323\u001b[0m         response\u001b[39m.\u001b[39mget(\u001b[39m'\u001b[39m\u001b[39mvalue\u001b[39m\u001b[39m'\u001b[39m, \u001b[39mNone\u001b[39;00m))\n\u001b[1;32m    324\u001b[0m     \u001b[39mreturn\u001b[39;00m response\n",
      "File \u001b[0;32m~/miniconda3/envs/test_for_scrapping/lib/python3.11/site-packages/selenium/webdriver/remote/errorhandler.py:242\u001b[0m, in \u001b[0;36mErrorHandler.check_response\u001b[0;34m(self, response)\u001b[0m\n\u001b[1;32m    240\u001b[0m         alert_text \u001b[39m=\u001b[39m value[\u001b[39m'\u001b[39m\u001b[39malert\u001b[39m\u001b[39m'\u001b[39m]\u001b[39m.\u001b[39mget(\u001b[39m'\u001b[39m\u001b[39mtext\u001b[39m\u001b[39m'\u001b[39m)\n\u001b[1;32m    241\u001b[0m     \u001b[39mraise\u001b[39;00m exception_class(message, screen, stacktrace, alert_text)\n\u001b[0;32m--> 242\u001b[0m \u001b[39mraise\u001b[39;00m exception_class(message, screen, stacktrace)\n",
      "\u001b[0;31mNoSuchWindowException\u001b[0m: Message: no such window: target window already closed\nfrom unknown error: web view not found\n  (Session info: chrome=116.0.5845.179)\n"
     ]
    }
   ],
   "source": [
    "for city , post in zip(df['City'][91:],df['Postcode'][91:]):\n",
    "    try:\n",
    "        (CITY, POST, Shop_name, Address, Phone_number, Day, Hour) = get_data(driver, city, post)\n",
    "        print(f\"City: {CITY} Post code: {POST} Shop Name:{Shop_name} Address: {Address} Phone number: {Phone_number}\")\n",
    "        for city , post , shop_name , address , phone_number , day , hour in zip(CITY, POST, Shop_name, Address, Phone_number, Day, Hour):\n",
    "            print(day)\n",
    "            print(hour)\n",
    "            if day!='Empty' and len(day)==7:\n",
    "\n",
    "                try:\n",
    "\n",
    "                    mydb = mysql.connector.connect(\n",
    "                          host=\"p3nlmysql165plsk.secureserver.net\",\n",
    "                          user=\"Hamide\",\n",
    "                          password=\"Vmkw788^6\",\n",
    "                          database=\"Sale_find_customer\"\n",
    "                    )\n",
    "                    mycursor = mydb.cursor()\n",
    "                    sql = \"SELECT shop_name, Address FROM Shopinfo_unique_2 WHERE Shop_name = %s and Address = %s and post = %s\"\n",
    "                    val = (shop_name, address, post)\n",
    "                    mycursor.execute(sql, val)\n",
    "\n",
    "                    # if the record does not exist, insert a new record\n",
    "                    if mycursor.fetchone() is None:\n",
    "\n",
    "                        if day[0]=='Saturday':\n",
    "\n",
    "                            sql = \"INSERT INTO Shopinfo_unique_2 (City,post,Shop_name,Address,Phone_Number,Saturday,Sunday,Monday,Tuesday,Wednesday,Thursday,\" \\\n",
    "                                \"Friday) VALUES (%s, %s, %s, %s, %s, %s, %s, %s, %s, %s, %s,%s)\"\n",
    "                            val = ('{}'.format(city), '{}'.format(post),'{}'.format(shop_name), '{}'.format(address),'{}'.format(phone_number), '{}'.format(hour[0]),'{}'.format(hour[1]), '{}'.format(hour[2]),'{}'.format(hour[3]), '{}'.format(hour[4]), '{}'.format(hour[5]),'{}'.format(hour[6]))\n",
    "\n",
    "                        if day[0]=='Sunday':\n",
    "                            sql = \"INSERT INTO Shopinfo_unique_2(City,post,Shop_name,Address,Phone_Number,Saturday,Sunday,Monday,Tuesday,Wednesday,Thursday,Friday) VALUES (%s, %s, %s, %s, %s, %s, %s, %s, %s, %s, %s, %s)\"\n",
    "                            val = ('{}'.format(city), '{}'.format(post),'{}'.format(shop_name), '{}'.format(address),'{}'.format(phone_number),'{}'.format(hour[6]),'{}'.format(hour[0]),'{}'.format(hour[1]), '{}'.format(hour[2]),'{}'.format(hour[3]), '{}'.format(hour[4]), '{}'.format(hour[5]))\n",
    "\n",
    "                        if day[0]=='Monday':\n",
    "                            sql = \"INSERT INTO Shopinfo_unique_2(City,post,Shop_name,Address,Phone_Number,Saturday,Sunday,Monday,Tuesday,Wednesday,Thursday,Friday) VALUES (%s,%s, %s, %s, %s, %s, %s, %s, %s, %s, %s, %s)\"\n",
    "                            val =  ('{}'.format(city), '{}'.format(post),'{}'.format(shop_name), '{}'.format(address),'{}'.format(phone_number),'{}'.format(hour[5]),'{}'.format(hour[6]),'{}'.format(hour[0]),'{}'.format(hour[1]),'{}'.format(hour[2]),'{}'.format(hour[3]),'{}'.format(hour[4]))\n",
    "                            \n",
    "                        if day[0]=='Tuesday':\n",
    "                            sql = \"INSERT INTO Shopinfo_unique_2(City,post,Shop_name,Address,Phone_Number,Saturday,Sunday,Monday,Tuesday,Wednesday,Thursday,Friday) VALUES (%s,%s, %s, %s, %s, %s, %s, %s, %s, %s, %s, %s)\"\n",
    "                            val = ('{}'.format(city), '{}'.format(post),'{}'.format(shop_name), '{}'.format(address),'{}'.format(phone_number),'{}'.format(hour[4]),'{}'.format(hour[5]),'{}'.format(hour[6]),'{}'.format(hour[0]),'{}'.format(hour[1]), '{}'.format(hour[2]),'{}'.format(hour[3]))\n",
    "\n",
    "                        if day[0]=='Wednesday':\n",
    "                            sql = \"INSERT INTO Shopinfo_unique_2(City,post,Shop_name,Address,Phone_Number,Saturday,Sunday,Monday,Tuesday,Wednesday,Thursday,Friday) VALUES (%s,%s, %s, %s, %s, %s, %s, %s, %s, %s, %s, %s)\"\n",
    "                            val = ('{}'.format(city), '{}'.format(post),'{}'.format(shop_name), '{}'.format(address),'{}'.format(phone_number),'{}'.format(hour[3]),'{}'.format(hour[4]),'{}'.format(hour[5]),'{}'.format(hour[6]),'{}'.format(hour[0]),'{}'.format(hour[1]), '{}'.format(hour[2]))\n",
    "\n",
    "                        if day[0]=='Thursday':\n",
    "                            sql = \"INSERT INTO Shopinfo_unique_2(City,post,Shop_name,Address,Phone_Number,Saturday,Sunday,Monday,Tuesday,Wednesday,Thursday,Friday) VALUES (%s,%s, %s, %s, %s, %s, %s, %s, %s, %s, %s, %s)\"\n",
    "                            val = ('{}'.format(city), '{}'.format(post),'{}'.format(shop_name), '{}'.format(address),'{}'.format(phone_number),'{}'.format(hour[2]),'{}'.format(hour[3]),'{}'.format(hour[4]),'{}'.format(hour[5]),'{}'.format(hour[6]),'{}'.format(hour[0]),'{}'.format(hour[1]))\n",
    "\n",
    "                        if day[0]=='Friday':\n",
    "                            sql = \"INSERT INTO Shopinfo_unique_2(City,post,Shop_name,Address,Phone_Number,Saturday,Sunday,Monday,Tuesday,Wednesday,Thursday,Friday) VALUES (%s,%s, %s, %s, %s, %s, %s, %s, %s, %s, %s, %s)\"\n",
    "                            val = ('{}'.format(city), '{}'.format(post),'{}'.format(shop_name), '{}'.format(address),'{}'.format(phone_number),'{}'.format(hour[1]),'{}'.format(hour[2]),'{}'.format(hour[3]),'{}'.format(hour[4]),'{}'.format(hour[5]),'{}'.format(hour[6]),'{}'.format(hour[0]))\n",
    "\n",
    "                        mycursor.execute(sql, val)\n",
    "\n",
    "                        mydb.commit()\n",
    "                    else:\n",
    "                        print(\"Record already exists\")\n",
    "                        \n",
    "                    print(mycursor.rowcount, \"record inserted.\")\n",
    "                except mysql.connector.Error as err :\n",
    "                    print(err)\n",
    "                    #print(e)\n",
    "                    #mysql.connector.errors\n",
    "                    pass\n",
    "                    #print(\"Shop does not have open hours\")\n",
    "            else:\n",
    "                print(\"Shop does not have open hours\")\n",
    "\n",
    "    except TimeoutException as Tm:\n",
    "        print('You have time error')\n",
    "        pass"
   ]
  },
  {
   "cell_type": "code",
   "execution_count": null,
   "metadata": {},
   "outputs": [],
   "source": []
  },
  {
   "cell_type": "code",
   "execution_count": null,
   "metadata": {},
   "outputs": [],
   "source": []
  }
 ],
 "metadata": {
  "celltoolbar": "Raw Cell Format",
  "kernelspec": {
   "display_name": "Python 3 (ipykernel)",
   "language": "python",
   "name": "python3"
  },
  "language_info": {
   "codemirror_mode": {
    "name": "ipython",
    "version": 3
   },
   "file_extension": ".py",
   "mimetype": "text/x-python",
   "name": "python",
   "nbconvert_exporter": "python",
   "pygments_lexer": "ipython3",
   "version": "3.11.4"
  }
 },
 "nbformat": 4,
 "nbformat_minor": 4
}
